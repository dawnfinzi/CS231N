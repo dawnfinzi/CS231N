{
 "cells": [
  {
   "cell_type": "markdown",
   "metadata": {},
   "source": [
    "### PLS regression from Alexnet layer outputs to voxel responses"
   ]
  },
  {
   "cell_type": "code",
   "execution_count": 1,
   "metadata": {},
   "outputs": [],
   "source": [
    "#basic imports\n",
    "%matplotlib inline\n",
    "\n",
    "import matplotlib\n",
    "import matplotlib.pyplot as plt\n",
    "\n",
    "import pymongo as pm\n",
    "import numpy as np\n",
    "import h5py\n",
    "import scipy as sp\n",
    "import scipy.stats as stats\n",
    "import os\n",
    "\n",
    "from sklearn.cross_decomposition import PLSRegression"
   ]
  },
  {
   "cell_type": "code",
   "execution_count": 2,
   "metadata": {},
   "outputs": [],
   "source": [
    "import regression_utils as rutils\n",
    "from sklearn.model_selection import GridSearchCV\n",
    "\n",
    "#local imports\n",
    "from utils import featurewise_norm\n",
    "from utils import rsquared"
   ]
  },
  {
   "cell_type": "code",
   "execution_count": 3,
   "metadata": {},
   "outputs": [],
   "source": [
    "# let's bring in the brain data\n",
    "\n",
    "#read in the mat files\n",
    "with h5py.File('../data/EstimatedResponses.mat','r') as fmri_dataset:\n",
    "    train_S1 = fmri_dataset['dataTrnS1'][:]\n",
    "    test_S1 = fmri_dataset['dataValS1'][:]\n",
    "    roi_S1 = fmri_dataset['roiS1'][:]\n",
    "    \n",
    "    unique_ROIs = np.unique((fmri_dataset['roiS1']))"
   ]
  },
  {
   "cell_type": "code",
   "execution_count": 4,
   "metadata": {},
   "outputs": [
    {
     "name": "stdout",
     "output_type": "stream",
     "text": [
      "(1750, 25915)\n"
     ]
    }
   ],
   "source": [
    "print(train_S1.shape)"
   ]
  },
  {
   "cell_type": "code",
   "execution_count": 5,
   "metadata": {},
   "outputs": [
    {
     "data": {
      "text/plain": [
       "(1, 25915)"
      ]
     },
     "execution_count": 5,
     "metadata": {},
     "output_type": "execute_result"
    }
   ],
   "source": [
    "roi_S1.shape"
   ]
  },
  {
   "cell_type": "code",
   "execution_count": 6,
   "metadata": {},
   "outputs": [
    {
     "name": "stdout",
     "output_type": "stream",
     "text": [
      "(1750, 22733)\n"
     ]
    }
   ],
   "source": [
    "#get rid of all NaNs\n",
    "S1 = train_S1.T\n",
    "x=S1[~np.isnan(S1).any(axis=1)]\n",
    "S1_train = x.T\n",
    "print(S1_train.shape)"
   ]
  },
  {
   "cell_type": "code",
   "execution_count": 7,
   "metadata": {},
   "outputs": [],
   "source": [
    "num_vox = S1_train.shape[1]"
   ]
  },
  {
   "cell_type": "code",
   "execution_count": 8,
   "metadata": {},
   "outputs": [
    {
     "name": "stdout",
     "output_type": "stream",
     "text": [
      "22733\n"
     ]
    }
   ],
   "source": [
    "S1r = roi_S1.T\n",
    "x=S1r[~np.isnan(S1).any(axis=1)]\n",
    "vox_idx = x.T\n",
    "vox_idx = vox_idx[0]\n",
    "print(len(vox_idx))"
   ]
  },
  {
   "cell_type": "code",
   "execution_count": 9,
   "metadata": {},
   "outputs": [],
   "source": [
    "#number of voxels that were classified as one of the visual ROIs of interest (V1, V2, V3, V4, LO)\n",
    "num_vox_of_roi = (len(np.where(vox_idx==7)[0])\n",
    "                  + len(np.where(vox_idx==6)[0])\n",
    "                  + len(np.where(vox_idx==1)[0])\n",
    "                  +len(np.where(vox_idx==2)[0])\n",
    "                  +len(np.where(vox_idx==3)[0]))"
   ]
  },
  {
   "cell_type": "code",
   "execution_count": 10,
   "metadata": {},
   "outputs": [],
   "source": [
    "#all splits for regression training\n",
    "num_splits = 5\n",
    "all_splits = rutils.get_splits(data=S1_train,\n",
    "                               split_index=0,\n",
    "                               num_splits=num_splits,\n",
    "                               num_per_class_test = 250,\n",
    "                               num_per_class_train = 1500)"
   ]
  },
  {
   "cell_type": "code",
   "execution_count": 11,
   "metadata": {},
   "outputs": [],
   "source": [
    "# read in the alexnet features\n",
    "features = {}\n",
    "layer_keys = ['conv1', 'conv2', 'conv3', 'conv4', 'conv5', 'fc6', 'fc7']\n",
    "h5f = h5py.File('../models/features/alexnet/alexnet_train_features.h5','r')\n",
    "for l in layer_keys:\n",
    "    features[l] = h5f[l][:] #features for the training images\n",
    "h5f.close()"
   ]
  },
  {
   "cell_type": "code",
   "execution_count": 12,
   "metadata": {},
   "outputs": [],
   "source": [
    "#flatten the features\n",
    "flat_features = {}\n",
    "for l in layer_keys:\n",
    "    shp = features[l].shape\n",
    "    flat_features[l] = features[l].reshape((shp[0], np.prod(shp[1:])))\n",
    "    \n",
    "#and subsample the features\n",
    "sub_features = {}\n",
    "N = 1250\n",
    "#create a random number generator with controlled seed\n",
    "rng = np.random.RandomState(seed=0)\n",
    "for l in layer_keys:\n",
    "    #n = number of features\n",
    "    n = flat_features[l].shape[1]  \n",
    "    #pick a permutation of the set [0, ... n-1]\n",
    "    perm = rng.permutation(n)\n",
    "    #keep the first N random features\n",
    "    keep_inds = perm[: N]\n",
    "    sub_features[l] = flat_features[l][:, keep_inds]"
   ]
  },
  {
   "cell_type": "code",
   "execution_count": 14,
   "metadata": {},
   "outputs": [
    {
     "name": "stdout",
     "output_type": "stream",
     "text": [
      "evaluating conv1\n",
      "evaluating conv2\n",
      "evaluating conv3\n",
      "evaluating conv4\n",
      "evaluating conv5\n",
      "evaluating fc6\n",
      "evaluating fc7\n"
     ]
    }
   ],
   "source": [
    "#now, do the training\n",
    "all_resdict = {}\n",
    "for l in layer_keys:   #for each layer ...\n",
    "    print('evaluating %s' % l)\n",
    "    feats = sub_features[l]\n",
    "\n",
    "    res = rutils.train_and_test_scikit_regressor(features=feats, \n",
    "                                                labels=S1_train,\n",
    "                                                splits=all_splits,\n",
    "                                                model_class=PLSRegression,\n",
    "                                                model_args={'n_components': 2,\n",
    "                                                            'scale': False},\n",
    "                                                feature_norm=False)\n",
    "    all_resdict[l] = res"
   ]
  },
  {
   "cell_type": "markdown",
   "metadata": {},
   "source": [
    "#### For how many neurons do any layers significantly predict performance?"
   ]
  },
  {
   "cell_type": "code",
   "execution_count": 15,
   "metadata": {},
   "outputs": [],
   "source": [
    "#divide performance explicitly by layer\n",
    "conv1 = all_resdict['conv1']['test']['mean_rsquared_array']\n",
    "conv2 = all_resdict['conv2']['test']['mean_rsquared_array']\n",
    "conv3 = all_resdict['conv3']['test']['mean_rsquared_array']\n",
    "conv4 = all_resdict['conv4']['test']['mean_rsquared_array']\n",
    "conv5 = all_resdict['conv5']['test']['mean_rsquared_array']\n",
    "fc6 = all_resdict['fc6']['test']['mean_rsquared_array']\n",
    "fc7 = all_resdict['fc7']['test']['mean_rsquared_array']"
   ]
  },
  {
   "cell_type": "code",
   "execution_count": 19,
   "metadata": {},
   "outputs": [],
   "source": [
    "#get the best performing layer for each voxel\n",
    "best_layer_by_vox = {}\n",
    "for vox in range(num_vox):\n",
    "    rs_by_layer = [conv1[vox], conv2[vox], conv3[vox], conv4[vox], conv5[vox], fc6[vox], fc7[vox]]\n",
    "    best_layer_by_vox[vox] = np.argmax(rs_by_layer)"
   ]
  },
  {
   "cell_type": "code",
   "execution_count": 22,
   "metadata": {},
   "outputs": [
    {
     "name": "stdout",
     "output_type": "stream",
     "text": [
      "6.553079947575361e-06\n"
     ]
    }
   ],
   "source": [
    "num_test = num_vox_of_roi\n",
    "bonferroni_alpha = 0.05/num_test\n",
    "print(bonferroni_alpha) #too strict"
   ]
  },
  {
   "cell_type": "code",
   "execution_count": 31,
   "metadata": {},
   "outputs": [],
   "source": [
    "#get all significantly predicted voxels (p < .05, one-sided)\n",
    "stat_vox = []\n",
    "stat_rs = {}\n",
    "r_mean = []\n",
    "stat_rs_mean = {}\n",
    "for vox in range(num_vox):\n",
    "    rs_by_split = []\n",
    "    for split in range(num_splits): #get output for winning layer for all splits\n",
    "        layer_win = best_layer_by_vox[vox]\n",
    "        win_key = layer_keys[layer_win]\n",
    "        rs_by_split.append(all_resdict[win_key]['test']['by_split'][split]['rsquared_array'][vox])\n",
    "    \n",
    "    r_mean.append(all_resdict[win_key]['test']['mean_rsquared_array'][vox]) #all mean r^2 across splits \n",
    "    \n",
    "    t, p = stats.ttest_1samp(rs_by_split, 0.0)\n",
    "    p = p/2 #one-sided\n",
    "    if t > 0: #only positive fits\n",
    "        if p < .05:\n",
    "            stat_vox.append(vox) #indices of stat sig voxels\n",
    "            stat_rs[str(vox)] = rs_by_split\n",
    "            stat_rs_mean[str(vox)] = all_resdict[win_key]['test']['mean_rsquared_array'][vox]"
   ]
  },
  {
   "cell_type": "code",
   "execution_count": 33,
   "metadata": {
    "scrolled": true
   },
   "outputs": [
    {
     "data": {
      "text/plain": [
       "(array([781., 380., 458.,   0., 226.,  50.,   0.,  43., 214., 152.]),\n",
       " array([0. , 0.7, 1.4, 2.1, 2.8, 3.5, 4.2, 4.9, 5.6, 6.3, 7. ]),\n",
       " <a list of 10 Patch objects>)"
      ]
     },
     "execution_count": 33,
     "metadata": {},
     "output_type": "execute_result"
    },
    {
     "data": {
      "image/png": "[encoded data removed]",
      "text/plain": [
       "<Figure size 432x288 with 1 Axes>"
      ]
     },
     "metadata": {
      "needs_background": "light"
     },
     "output_type": "display_data"
    }
   ],
   "source": [
    "plt.hist(vox_idx[stat_vox])"
   ]
  },
  {
   "cell_type": "code",
   "execution_count": 34,
   "metadata": {},
   "outputs": [
    {
     "data": {
      "text/plain": [
       "214"
      ]
     },
     "execution_count": 34,
     "metadata": {},
     "output_type": "execute_result"
    }
   ],
   "source": [
    "sum(vox_idx[stat_vox]==6) #num of stat sig V4 vox"
   ]
  },
  {
   "cell_type": "code",
   "execution_count": 37,
   "metadata": {},
   "outputs": [],
   "source": [
    "V4_idx = np.where(vox_idx==6)\n",
    "V4_idx_list = V4_idx[0].tolist()\n",
    "v4_sig_idx = set(V4_idx_list).intersection(stat_vox)"
   ]
  },
  {
   "cell_type": "code",
   "execution_count": 38,
   "metadata": {},
   "outputs": [],
   "source": [
    "V4_layer_win = []\n",
    "i = 0\n",
    "for V4_vox in v4_sig_idx:\n",
    "    V4_layer_win.append(best_layer_by_vox[V4_vox])\n",
    "    stat_rs[str(V4_vox)]\n",
    "    i += 1"
   ]
  },
  {
   "cell_type": "code",
   "execution_count": 39,
   "metadata": {},
   "outputs": [
    {
     "data": {
      "text/plain": [
       "(array([ 4., 32., 85., 18., 42., 26.,  7.]),\n",
       " array([0.        , 0.85714286, 1.71428571, 2.57142857, 3.42857143,\n",
       "        4.28571429, 5.14285714, 6.        ]),\n",
       " <a list of 7 Patch objects>)"
      ]
     },
     "execution_count": 39,
     "metadata": {},
     "output_type": "execute_result"
    },
    {
     "data": {
      "image/png": "[encoded data removed]",
      "text/plain": [
       "<Figure size 432x288 with 1 Axes>"
      ]
     },
     "metadata": {
      "needs_background": "light"
     },
     "output_type": "display_data"
    }
   ],
   "source": [
    "plt.hist(V4_layer_win,bins = 7) #yay conv3 won!"
   ]
  },
  {
   "cell_type": "code",
   "execution_count": 40,
   "metadata": {},
   "outputs": [],
   "source": [
    "LO_idx = np.where(vox_idx==7)\n",
    "LO_idx_list = LO_idx[0].tolist()\n",
    "LO_sig_idx = set(LO_idx_list).intersection(stat_vox)"
   ]
  },
  {
   "cell_type": "code",
   "execution_count": 41,
   "metadata": {},
   "outputs": [],
   "source": [
    "LO_layer_win = []\n",
    "i = 0\n",
    "for LO_vox in LO_sig_idx:\n",
    "    LO_layer_win.append(best_layer_by_vox[LO_vox])\n",
    "    stat_rs[str(LO_vox)]\n",
    "    i += 1"
   ]
  },
  {
   "cell_type": "code",
   "execution_count": 42,
   "metadata": {},
   "outputs": [
    {
     "data": {
      "text/plain": [
       "(array([10., 48.,  4.,  0., 29., 16., 45.]),\n",
       " array([1.        , 1.71428571, 2.42857143, 3.14285714, 3.85714286,\n",
       "        4.57142857, 5.28571429, 6.        ]),\n",
       " <a list of 7 Patch objects>)"
      ]
     },
     "execution_count": 42,
     "metadata": {},
     "output_type": "execute_result"
    },
    {
     "data": {
      "image/png": "[encoded data removed]",
      "text/plain": [
       "<Figure size 432x288 with 1 Axes>"
      ]
     },
     "metadata": {
      "needs_background": "light"
     },
     "output_type": "display_data"
    }
   ],
   "source": [
    "plt.hist(LO_layer_win,bins = 7) #later layers maybe?"
   ]
  },
  {
   "cell_type": "code",
   "execution_count": 43,
   "metadata": {},
   "outputs": [],
   "source": [
    "#### okay now V1\n",
    "V1_idx = np.where(vox_idx==1)\n",
    "V1_idx_list = V1_idx[0].tolist()\n",
    "V1_sig_idx = set(V1_idx_list).intersection(stat_vox)"
   ]
  },
  {
   "cell_type": "code",
   "execution_count": 44,
   "metadata": {},
   "outputs": [],
   "source": [
    "V1_layer_win = []\n",
    "i = 0\n",
    "for V1_vox in V1_sig_idx:\n",
    "    V1_layer_win.append(best_layer_by_vox[V1_vox])\n",
    "    stat_rs[str(V1_vox)]\n",
    "    i += 1"
   ]
  },
  {
   "cell_type": "code",
   "execution_count": 45,
   "metadata": {},
   "outputs": [
    {
     "data": {
      "text/plain": [
       "(array([  8., 170., 152.,  28.,  19.,   1.,   2.]),\n",
       " array([0.        , 0.85714286, 1.71428571, 2.57142857, 3.42857143,\n",
       "        4.28571429, 5.14285714, 6.        ]),\n",
       " <a list of 7 Patch objects>)"
      ]
     },
     "execution_count": 45,
     "metadata": {},
     "output_type": "execute_result"
    },
    {
     "data": {
      "image/png": "[encoded data removed]",
      "text/plain": [
       "<Figure size 432x288 with 1 Axes>"
      ]
     },
     "metadata": {
      "needs_background": "light"
     },
     "output_type": "display_data"
    }
   ],
   "source": [
    "plt.hist(V1_layer_win,bins = 7) #yay good!"
   ]
  },
  {
   "cell_type": "code",
   "execution_count": 46,
   "metadata": {},
   "outputs": [
    {
     "data": {
      "text/plain": [
       "(array([  9., 185., 171.,  48.,  29.,   8.,   8.]),\n",
       " array([0.        , 0.85714286, 1.71428571, 2.57142857, 3.42857143,\n",
       "        4.28571429, 5.14285714, 6.        ]),\n",
       " <a list of 7 Patch objects>)"
      ]
     },
     "execution_count": 46,
     "metadata": {},
     "output_type": "execute_result"
    },
    {
     "data": {
      "image/png": "[encoded data removed]",
      "text/plain": [
       "<Figure size 432x288 with 1 Axes>"
      ]
     },
     "metadata": {
      "needs_background": "light"
     },
     "output_type": "display_data"
    }
   ],
   "source": [
    "#### okay now V2\n",
    "V2_idx = np.where(vox_idx==2)\n",
    "V2_idx_list = V2_idx[0].tolist()\n",
    "V2_sig_idx = set(V2_idx_list).intersection(stat_vox)\n",
    "\n",
    "V2_layer_win = []\n",
    "i = 0\n",
    "for V2_vox in V2_sig_idx:\n",
    "    V2_layer_win.append(best_layer_by_vox[V2_vox])\n",
    "    stat_rs[str(V2_vox)]\n",
    "    i += 1\n",
    "    \n",
    "plt.hist(V2_layer_win,bins = 7)    "
   ]
  },
  {
   "cell_type": "code",
   "execution_count": 47,
   "metadata": {},
   "outputs": [
    {
     "data": {
      "text/plain": [
       "(array([10., 51., 73., 46., 23., 14.,  9.]),\n",
       " array([0.        , 0.85714286, 1.71428571, 2.57142857, 3.42857143,\n",
       "        4.28571429, 5.14285714, 6.        ]),\n",
       " <a list of 7 Patch objects>)"
      ]
     },
     "execution_count": 47,
     "metadata": {},
     "output_type": "execute_result"
    },
    {
     "data": {
      "image/png": "[encoded data removed]",
      "text/plain": [
       "<Figure size 432x288 with 1 Axes>"
      ]
     },
     "metadata": {
      "needs_background": "light"
     },
     "output_type": "display_data"
    }
   ],
   "source": [
    "#### okay now V3\n",
    "V3_idx = np.where(vox_idx==3)\n",
    "V3_idx_list = V3_idx[0].tolist()\n",
    "V3_sig_idx = set(V3_idx_list).intersection(stat_vox)\n",
    "\n",
    "V3_layer_win = []\n",
    "i = 0\n",
    "for V3_vox in V3_sig_idx:\n",
    "    V3_layer_win.append(best_layer_by_vox[V3_vox])\n",
    "    stat_rs[str(V3_vox)]\n",
    "    i += 1\n",
    "    \n",
    "plt.hist(V3_layer_win,bins = 7)    "
   ]
  },
  {
   "cell_type": "code",
   "execution_count": 48,
   "metadata": {},
   "outputs": [],
   "source": [
    "#get proportions\n",
    "#V1\n",
    "V1_props = []\n",
    "V1_vox = len(V1_layer_win)\n",
    "for l in range(len(layer_keys)):\n",
    "    V1_props.append(V1_layer_win.count(l)/V1_vox)\n",
    "    \n",
    "#V2\n",
    "V2_props = []\n",
    "V2_vox = len(V2_layer_win)\n",
    "for l in range(len(layer_keys)):\n",
    "    V2_props.append(V2_layer_win.count(l)/V2_vox)\n",
    "\n",
    "#V3\n",
    "V3_props = []\n",
    "V3_vox = len(V3_layer_win)\n",
    "for l in range(len(layer_keys)):\n",
    "    V3_props.append(V3_layer_win.count(l)/V3_vox)\n",
    "\n",
    "#V4\n",
    "V4_props = []\n",
    "V4_vox = len(V4_layer_win)\n",
    "for l in range(len(layer_keys)):\n",
    "    V4_props.append(V4_layer_win.count(l)/V4_vox)\n",
    "\n",
    "#LO\n",
    "LO_props = []\n",
    "LO_vox = len(LO_layer_win)\n",
    "for l in range(len(layer_keys)):\n",
    "    LO_props.append(LO_layer_win.count(l)/LO_vox)"
   ]
  },
  {
   "cell_type": "code",
   "execution_count": 50,
   "metadata": {},
   "outputs": [
    {
     "data": {
      "image/png": "[encoded data removed]",
      "text/plain": [
       "<Figure size 720x504 with 1 Axes>"
      ]
     },
     "metadata": {
      "needs_background": "light"
     },
     "output_type": "display_data"
    }
   ],
   "source": [
    "plt.figure(figsize=(10,7))\n",
    "plt.plot(layer_keys, V1_props, marker='o', markerfacecolor='r', markersize=8, color='r', linewidth=4, label = 'V1')\n",
    "plt.plot(layer_keys, V2_props, marker='o', markerfacecolor='orange', markersize=8, color='orange', linewidth=4, label = 'V2')\n",
    "plt.plot(layer_keys, V3_props, marker='o', markerfacecolor='green', markersize=8, color='green', linewidth=4, label = 'V3')\n",
    "plt.plot(layer_keys, V4_props, marker='o', markerfacecolor='skyblue', markersize=8, color='skyblue', linewidth=4, label = 'V4')\n",
    "plt.plot(layer_keys, LO_props, marker='o', markerfacecolor='blue', markersize=8, color='blue', linewidth=4, label = 'LO')\n",
    "\n",
    "plt.xlabel('Layer', fontsize = 16)\n",
    "plt.ylabel('Fraction of voxels', fontsize = 16)\n",
    "plt.title('Best voxel fits by layer', fontsize = 20)\n",
    "\n",
    "plt.legend(loc='upper right')\n",
    "\n",
    "plt.savefig('../figures/S1_layerwise_alexnet_fits_05.png')"
   ]
  },
  {
   "cell_type": "code",
   "execution_count": 52,
   "metadata": {},
   "outputs": [
    {
     "data": {
      "image/png": "[encoded data removed]",
      "text/plain": [
       "<Figure size 432x288 with 1 Axes>"
      ]
     },
     "metadata": {
      "needs_background": "light"
     },
     "output_type": "display_data"
    }
   ],
   "source": [
    "plt.plot(layer_keys, V4_props, marker='o', markerfacecolor='skyblue', markersize=8, color='skyblue', linewidth=4, label = 'V4')\n",
    "plt.plot(layer_keys, LO_props, marker='o', markerfacecolor='purple', markersize=8, color='purple', linewidth=4, label = 'LO')\n",
    "\n",
    "plt.xlabel('Layer')\n",
    "plt.ylabel('Fraction of voxels')\n",
    "plt.title('Best voxel fits by layer')\n",
    "\n",
    "plt.legend()\n",
    "\n",
    "plt.savefig('../figures/S1_layerwise_alexnet_V4vsLO.png')"
   ]
  },
  {
   "cell_type": "code",
   "execution_count": 470,
   "metadata": {},
   "outputs": [
    {
     "data": {
      "text/plain": [
       "101"
      ]
     },
     "execution_count": 470,
     "metadata": {},
     "output_type": "execute_result"
    }
   ],
   "source": [
    "sum((all_resdict['conv3']['test']['mean_rsquared_array'])>.1)"
   ]
  },
  {
   "cell_type": "code",
   "execution_count": 472,
   "metadata": {},
   "outputs": [
    {
     "data": {
      "text/plain": [
       "0.22302872079985728"
      ]
     },
     "execution_count": 472,
     "metadata": {},
     "output_type": "execute_result"
    }
   ],
   "source": [
    "np.max(all_resdict['conv3']['test']['mean_rsquared_array'])"
   ]
  },
  {
   "cell_type": "code",
   "execution_count": 474,
   "metadata": {},
   "outputs": [],
   "source": [
    "all_ = all_resdict['conv3']['test']['mean_rsquared_array']"
   ]
  },
  {
   "cell_type": "code",
   "execution_count": 475,
   "metadata": {},
   "outputs": [],
   "source": [
    "top = all_[all_>.1]"
   ]
  },
  {
   "cell_type": "code",
   "execution_count": 476,
   "metadata": {},
   "outputs": [
    {
     "data": {
      "text/plain": [
       "array([0.11363616, 0.10443913, 0.10637388, 0.15068784, 0.12615136,\n",
       "       0.10695562, 0.15058823, 0.11078297, 0.12042856, 0.12499575,\n",
       "       0.11930513, 0.11325004, 0.13658652, 0.11909916, 0.13394086,\n",
       "       0.12494516, 0.15875354, 0.12409587, 0.14913846, 0.18422306,\n",
       "       0.12468247, 0.10770102, 0.13802441, 0.10381722, 0.10124226,\n",
       "       0.10199634, 0.12662148, 0.18029666, 0.15600424, 0.12059769,\n",
       "       0.10704522, 0.11679224, 0.19125098, 0.19193096, 0.15554675,\n",
       "       0.12117541, 0.1345276 , 0.10062651, 0.11375401, 0.16335426,\n",
       "       0.1130883 , 0.13163288, 0.16817095, 0.14274289, 0.1053033 ,\n",
       "       0.10005461, 0.1448797 , 0.20165085, 0.19488174, 0.19772245,\n",
       "       0.18599401, 0.13749119, 0.14340573, 0.13377685, 0.11659248,\n",
       "       0.22302872, 0.17066696, 0.1715143 , 0.13215894, 0.11036361,\n",
       "       0.11883497, 0.13758545, 0.17572128, 0.18040848, 0.10652391,\n",
       "       0.10202716, 0.1130995 , 0.14872909, 0.11404833, 0.14915186,\n",
       "       0.12056628, 0.12730172, 0.18872038, 0.10379352, 0.16715816,\n",
       "       0.19572848, 0.11763185, 0.1172994 , 0.10311973, 0.10621604,\n",
       "       0.13583813, 0.14803975, 0.15941331, 0.10635752, 0.11476733,\n",
       "       0.18424291, 0.17778444, 0.12525958, 0.10458418, 0.16995301,\n",
       "       0.165012  , 0.16394704, 0.10676354, 0.12307689, 0.13442842,\n",
       "       0.10494308, 0.11293421, 0.1039604 , 0.10234545, 0.10258644,\n",
       "       0.11302344])"
      ]
     },
     "execution_count": 476,
     "metadata": {},
     "output_type": "execute_result"
    }
   ],
   "source": [
    "top"
   ]
  },
  {
   "cell_type": "code",
   "execution_count": 477,
   "metadata": {},
   "outputs": [
    {
     "data": {
      "text/plain": [
       "101"
      ]
     },
     "execution_count": 477,
     "metadata": {},
     "output_type": "execute_result"
    }
   ],
   "source": [
    "len(top)"
   ]
  },
  {
   "cell_type": "code",
   "execution_count": 485,
   "metadata": {},
   "outputs": [
    {
     "data": {
      "text/plain": [
       "0.23405790683974975"
      ]
     },
     "execution_count": 485,
     "metadata": {},
     "output_type": "execute_result"
    }
   ],
   "source": [
    "np.max(all_resdict['conv2']['test']['mean_rsquared_array'])"
   ]
  },
  {
   "cell_type": "code",
   "execution_count": null,
   "metadata": {},
   "outputs": [],
   "source": []
  }
 ],
 "metadata": {
  "kernelspec": {
   "display_name": "Python 3",
   "language": "python",
   "name": "python3"
  },
  "language_info": {
   "codemirror_mode": {
    "name": "ipython",
    "version": 3
   },
   "file_extension": ".py",
   "mimetype": "text/x-python",
   "name": "python",
   "nbconvert_exporter": "python",
   "pygments_lexer": "ipython3",
   "version": "3.7.7"
  }
 },
 "nbformat": 4,
 "nbformat_minor": 4
}
