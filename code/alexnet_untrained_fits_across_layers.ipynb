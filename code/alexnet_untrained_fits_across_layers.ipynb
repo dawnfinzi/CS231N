{
 "cells": [
  {
   "cell_type": "markdown",
   "metadata": {},
   "source": [
    "### PLS regression from untrained Alexnet layer outputs to voxel responses"
   ]
  },
  {
   "cell_type": "code",
   "execution_count": 1,
   "metadata": {},
   "outputs": [],
   "source": [
    "#basic imports\n",
    "%matplotlib inline\n",
    "\n",
    "import matplotlib\n",
    "import matplotlib.pyplot as plt\n",
    "\n",
    "import pymongo as pm\n",
    "import numpy as np\n",
    "import h5py\n",
    "import scipy as sp\n",
    "import scipy.stats as stats\n",
    "import os\n",
    "\n",
    "from sklearn.cross_decomposition import PLSRegression"
   ]
  },
  {
   "cell_type": "code",
   "execution_count": 2,
   "metadata": {},
   "outputs": [],
   "source": [
    "import regression_utils as rutils\n",
    "from sklearn.model_selection import GridSearchCV\n",
    "\n",
    "#local imports\n",
    "from utils import featurewise_norm\n",
    "from utils import rsquared"
   ]
  },
  {
   "cell_type": "code",
   "execution_count": 3,
   "metadata": {},
   "outputs": [],
   "source": [
    "# let's bring in the brain data\n",
    "\n",
    "#read in the mat files\n",
    "with h5py.File('../data/EstimatedResponses.mat','r') as fmri_dataset:\n",
    "    train_S1 = fmri_dataset['dataTrnS1'][:]\n",
    "    test_S1 = fmri_dataset['dataValS1'][:]\n",
    "    roi_S1 = fmri_dataset['roiS1'][:]\n",
    "    \n",
    "    unique_ROIs = np.unique((fmri_dataset['roiS1']))"
   ]
  },
  {
   "cell_type": "code",
   "execution_count": 4,
   "metadata": {},
   "outputs": [
    {
     "name": "stdout",
     "output_type": "stream",
     "text": [
      "(1750, 22733)\n",
      "22733\n"
     ]
    }
   ],
   "source": [
    "#get rid of all NaNs\n",
    "S1 = train_S1.T\n",
    "x=S1[~np.isnan(S1).any(axis=1)]\n",
    "S1_train = x.T\n",
    "print(S1_train.shape)\n",
    "\n",
    "num_vox = S1_train.shape[1]\n",
    "\n",
    "S1r = roi_S1.T\n",
    "x=S1r[~np.isnan(S1).any(axis=1)]\n",
    "vox_idx = x.T\n",
    "vox_idx = vox_idx[0]\n",
    "print(len(vox_idx))"
   ]
  },
  {
   "cell_type": "code",
   "execution_count": 5,
   "metadata": {},
   "outputs": [],
   "source": [
    "#number of voxels that were classified as one of the visual ROIs of interest (V1, V2, V3, V4, LO)\n",
    "num_vox_of_roi = (len(np.where(vox_idx==7)[0])\n",
    "                  + len(np.where(vox_idx==6)[0])\n",
    "                  + len(np.where(vox_idx==1)[0])\n",
    "                  +len(np.where(vox_idx==2)[0])\n",
    "                  +len(np.where(vox_idx==3)[0]))"
   ]
  },
  {
   "cell_type": "code",
   "execution_count": 6,
   "metadata": {},
   "outputs": [],
   "source": [
    "#all splits for regression training\n",
    "num_splits = 5\n",
    "all_splits = rutils.get_splits(data=S1_train,\n",
    "                               split_index=0,\n",
    "                               num_splits=num_splits,\n",
    "                               num_per_class_test = 250,\n",
    "                               num_per_class_train = 1500)"
   ]
  },
  {
   "cell_type": "code",
   "execution_count": 7,
   "metadata": {},
   "outputs": [],
   "source": [
    "# read in the alexnet features\n",
    "features = {}\n",
    "layer_keys = ['conv1', 'conv2', 'conv3', 'conv4', 'conv5', 'fc6', 'fc7']\n",
    "h5f = h5py.File('../models/features/alexnet/alexnet_untrained_train_features.h5','r')\n",
    "for l in layer_keys:\n",
    "    features[l] = h5f[l][:] #features for the training images\n",
    "h5f.close()"
   ]
  },
  {
   "cell_type": "code",
   "execution_count": 8,
   "metadata": {},
   "outputs": [],
   "source": [
    "#flatten the features\n",
    "flat_features = {}\n",
    "for l in layer_keys:\n",
    "    shp = features[l].shape\n",
    "    flat_features[l] = features[l].reshape((shp[0], np.prod(shp[1:])))\n",
    "    \n",
    "#and subsample the features\n",
    "sub_features = {}\n",
    "N = 1250\n",
    "#create a random number generator with controlled seed\n",
    "rng = np.random.RandomState(seed=0)\n",
    "for l in layer_keys:\n",
    "    #n = number of features\n",
    "    n = flat_features[l].shape[1]  \n",
    "    #pick a permutation of the set [0, ... n-1]\n",
    "    perm = rng.permutation(n)\n",
    "    #keep the first N random features\n",
    "    keep_inds = perm[: N]\n",
    "    sub_features[l] = flat_features[l][:, keep_inds]"
   ]
  },
  {
   "cell_type": "code",
   "execution_count": 9,
   "metadata": {},
   "outputs": [
    {
     "name": "stdout",
     "output_type": "stream",
     "text": [
      "evaluating conv1\n",
      "evaluating conv2\n",
      "evaluating conv3\n",
      "evaluating conv4\n",
      "evaluating conv5\n",
      "evaluating fc6\n",
      "evaluating fc7\n"
     ]
    }
   ],
   "source": [
    "#now, do the training\n",
    "all_resdict = {}\n",
    "for l in layer_keys:   #for each layer ...\n",
    "    print('evaluating %s' % l)\n",
    "    feats = sub_features[l]\n",
    "\n",
    "    res = rutils.train_and_test_scikit_regressor(features=feats, \n",
    "                                                labels=S1_train,\n",
    "                                                splits=all_splits,\n",
    "                                                model_class=PLSRegression,\n",
    "                                                model_args={'n_components': 2,\n",
    "                                                            'scale': False},\n",
    "                                                feature_norm=False)\n",
    "    all_resdict[l] = res"
   ]
  },
  {
   "cell_type": "code",
   "execution_count": 10,
   "metadata": {},
   "outputs": [],
   "source": [
    "#divide performance explicitly by layer\n",
    "conv1 = all_resdict['conv1']['test']['mean_rsquared_array']\n",
    "conv2 = all_resdict['conv2']['test']['mean_rsquared_array']\n",
    "conv3 = all_resdict['conv3']['test']['mean_rsquared_array']\n",
    "conv4 = all_resdict['conv4']['test']['mean_rsquared_array']\n",
    "conv5 = all_resdict['conv5']['test']['mean_rsquared_array']\n",
    "fc6 = all_resdict['fc6']['test']['mean_rsquared_array']\n",
    "fc7 = all_resdict['fc7']['test']['mean_rsquared_array']"
   ]
  },
  {
   "cell_type": "code",
   "execution_count": 11,
   "metadata": {},
   "outputs": [],
   "source": [
    "#get the best performing layer for each voxel\n",
    "best_layer_by_vox = {}\n",
    "for vox in range(num_vox):\n",
    "    rs_by_layer = [conv1[vox], conv2[vox], conv3[vox], conv4[vox], conv5[vox], fc6[vox], fc7[vox]]\n",
    "    best_layer_by_vox[vox] = np.argmax(rs_by_layer)"
   ]
  },
  {
   "cell_type": "code",
   "execution_count": 12,
   "metadata": {},
   "outputs": [],
   "source": [
    "#get all significantly predicted voxels (p < .05, one-sided)\n",
    "stat_vox = []\n",
    "stat_rs = {}\n",
    "r_mean = []\n",
    "stat_rs_mean = {}\n",
    "for vox in range(num_vox):\n",
    "    rs_by_split = []\n",
    "    for split in range(num_splits): #get output for winning layer for all splits\n",
    "        layer_win = best_layer_by_vox[vox]\n",
    "        win_key = layer_keys[layer_win]\n",
    "        rs_by_split.append(all_resdict[win_key]['test']['by_split'][split]['rsquared_array'][vox])\n",
    "    \n",
    "    r_mean.append(all_resdict[win_key]['test']['mean_rsquared_array'][vox]) #all mean r^2 across splits \n",
    "    \n",
    "    t, p = stats.ttest_1samp(rs_by_split, 0.0)\n",
    "    p = p/2 #one-sided\n",
    "    if t > 0: #only positive fits\n",
    "        if p < .05:\n",
    "            stat_vox.append(vox) #indices of stat sig voxels\n",
    "            stat_rs[str(vox)] = rs_by_split\n",
    "            stat_rs_mean[str(vox)] = all_resdict[win_key]['test']['mean_rsquared_array'][vox]"
   ]
  },
  {
   "cell_type": "code",
   "execution_count": null,
   "metadata": {},
   "outputs": [],
   "source": [
    "## okay, how's the untrained model?"
   ]
  },
  {
   "cell_type": "code",
   "execution_count": 13,
   "metadata": {},
   "outputs": [
    {
     "name": "stdout",
     "output_type": "stream",
     "text": [
      "Percentage of significantly predicted voxels: 6.749672346002621\n",
      "R-squared of best predicted voxel: 0.0862094060708696\n"
     ]
    }
   ],
   "source": [
    "## get some general metrics of performance\n",
    "#proportion of sig. predicted voxels within ROIs of interest by this threshold\n",
    "prop_sig = len(stat_vox)/num_vox_of_roi\n",
    "#validation r^2 value for best predicted voxel\n",
    "best_vox = max(stat_rs_mean.values())\n",
    "best_vox_idx = max(stat_rs_mean, key=stat_rs_mean.get)\n",
    "\n",
    "print(\"Percentage of significantly predicted voxels: %s\" % (prop_sig*100)) #about chance level\n",
    "print(\"R-squared of best predicted voxel: %s\" % (best_vox))"
   ]
  },
  {
   "cell_type": "code",
   "execution_count": 14,
   "metadata": {},
   "outputs": [
    {
     "name": "stdout",
     "output_type": "stream",
     "text": [
      "Average r^2 across all voxels of interest is -0.0039247318914590055, standard deviation = 0.005468031437349259\n"
     ]
    }
   ],
   "source": [
    "#average overall validation r^squared\n",
    "avg_r = np.mean(r_mean)\n",
    "std_r = np.std(r_mean)\n",
    "print(\"Average r^2 across all voxels of interest is %s, standard deviation = %s\" % (avg_r, std_r))"
   ]
  },
  {
   "cell_type": "code",
   "execution_count": 15,
   "metadata": {},
   "outputs": [],
   "source": [
    "## woo, it's way worse!!"
   ]
  },
  {
   "cell_type": "code",
   "execution_count": 16,
   "metadata": {},
   "outputs": [],
   "source": [
    "# does it have the same layer structure reflecting the visual hierarchy that the trained version does?"
   ]
  },
  {
   "cell_type": "code",
   "execution_count": 17,
   "metadata": {},
   "outputs": [],
   "source": [
    "V1_idx = np.where(vox_idx==1)\n",
    "V1_idx_list = V1_idx[0].tolist()\n",
    "V1_sig_idx = set(V1_idx_list).intersection(stat_vox)\n",
    "\n",
    "V1_layer_win = []\n",
    "i = 0\n",
    "for V1_vox in V1_sig_idx:\n",
    "    V1_layer_win.append(best_layer_by_vox[V1_vox])\n",
    "    stat_rs[str(V1_vox)]\n",
    "    i += 1\n",
    "\n",
    "V2_idx = np.where(vox_idx==2)\n",
    "V2_idx_list = V2_idx[0].tolist()\n",
    "V2_sig_idx = set(V2_idx_list).intersection(stat_vox)\n",
    "\n",
    "V2_layer_win = []\n",
    "i = 0\n",
    "for V2_vox in V2_sig_idx:\n",
    "    V2_layer_win.append(best_layer_by_vox[V2_vox])\n",
    "    stat_rs[str(V2_vox)]\n",
    "    i += 1\n",
    "    \n",
    "V3_idx = np.where(vox_idx==3)\n",
    "V3_idx_list = V3_idx[0].tolist()\n",
    "V3_sig_idx = set(V3_idx_list).intersection(stat_vox)\n",
    "\n",
    "V3_layer_win = []\n",
    "i = 0\n",
    "for V3_vox in V3_sig_idx:\n",
    "    V3_layer_win.append(best_layer_by_vox[V3_vox])\n",
    "    stat_rs[str(V3_vox)]\n",
    "    i += 1\n",
    "\n",
    "V4_idx = np.where(vox_idx==6)\n",
    "V4_idx_list = V4_idx[0].tolist()\n",
    "v4_sig_idx = set(V4_idx_list).intersection(stat_vox)\n",
    "\n",
    "V4_layer_win = []\n",
    "i = 0\n",
    "for V4_vox in v4_sig_idx:\n",
    "    V4_layer_win.append(best_layer_by_vox[V4_vox])\n",
    "    stat_rs[str(V4_vox)]\n",
    "    i += 1\n",
    "    \n",
    "LO_idx = np.where(vox_idx==7)\n",
    "LO_idx_list = LO_idx[0].tolist()\n",
    "LO_sig_idx = set(LO_idx_list).intersection(stat_vox)\n",
    "\n",
    "LO_layer_win = []\n",
    "i = 0\n",
    "for LO_vox in LO_sig_idx:\n",
    "    LO_layer_win.append(best_layer_by_vox[LO_vox])\n",
    "    stat_rs[str(LO_vox)]\n",
    "    i += 1"
   ]
  },
  {
   "cell_type": "code",
   "execution_count": 18,
   "metadata": {},
   "outputs": [],
   "source": [
    "#get proportions\n",
    "#V1\n",
    "V1_props = []\n",
    "V1_vox = len(V1_layer_win)\n",
    "for l in range(len(layer_keys)):\n",
    "    V1_props.append(V1_layer_win.count(l)/V1_vox)\n",
    "    \n",
    "#V2\n",
    "V2_props = []\n",
    "V2_vox = len(V2_layer_win)\n",
    "for l in range(len(layer_keys)):\n",
    "    V2_props.append(V2_layer_win.count(l)/V2_vox)\n",
    "\n",
    "#V3\n",
    "V3_props = []\n",
    "V3_vox = len(V3_layer_win)\n",
    "for l in range(len(layer_keys)):\n",
    "    V3_props.append(V3_layer_win.count(l)/V3_vox)\n",
    "\n",
    "#V4\n",
    "V4_props = []\n",
    "V4_vox = len(V4_layer_win)\n",
    "for l in range(len(layer_keys)):\n",
    "    V4_props.append(V4_layer_win.count(l)/V4_vox)\n",
    "\n",
    "#LO\n",
    "LO_props = []\n",
    "LO_vox = len(LO_layer_win)\n",
    "for l in range(len(layer_keys)):\n",
    "    LO_props.append(LO_layer_win.count(l)/LO_vox)"
   ]
  },
  {
   "cell_type": "code",
   "execution_count": 19,
   "metadata": {},
   "outputs": [
    {
     "data": {
      "image/png": "[encoded data removed]",
      "text/plain": [
       "<Figure size 720x504 with 1 Axes>"
      ]
     },
     "metadata": {
      "needs_background": "light"
     },
     "output_type": "display_data"
    }
   ],
   "source": [
    "plt.figure(figsize=(10,7))\n",
    "plt.plot(layer_keys, V1_props, marker='o', markerfacecolor='r', markersize=8, color='r', linewidth=4, label = 'V1')\n",
    "plt.plot(layer_keys, V2_props, marker='o', markerfacecolor='orange', markersize=8, color='orange', linewidth=4, label = 'V2')\n",
    "plt.plot(layer_keys, V3_props, marker='o', markerfacecolor='green', markersize=8, color='green', linewidth=4, label = 'V3')\n",
    "plt.plot(layer_keys, V4_props, marker='o', markerfacecolor='skyblue', markersize=8, color='skyblue', linewidth=4, label = 'V4')\n",
    "plt.plot(layer_keys, LO_props, marker='o', markerfacecolor='blue', markersize=8, color='blue', linewidth=4, label = 'LO')\n",
    "\n",
    "plt.xlabel('Layer', fontsize = 16)\n",
    "plt.ylabel('Fraction of voxels', fontsize = 16)\n",
    "plt.title('Best voxel fits by layer', fontsize = 20)\n",
    "\n",
    "plt.legend(loc='upper right')\n",
    "\n",
    "plt.savefig('../figures/S1_layerwise_alexnet_untrained_fits.png') #phew!!!"
   ]
  },
  {
   "cell_type": "code",
   "execution_count": null,
   "metadata": {},
   "outputs": [],
   "source": []
  }
 ],
 "metadata": {
  "kernelspec": {
   "display_name": "Python 3",
   "language": "python",
   "name": "python3"
  },
  "language_info": {
   "codemirror_mode": {
    "name": "ipython",
    "version": 3
   },
   "file_extension": ".py",
   "mimetype": "text/x-python",
   "name": "python",
   "nbconvert_exporter": "python",
   "pygments_lexer": "ipython3",
   "version": "3.7.7"
  }
 },
 "nbformat": 4,
 "nbformat_minor": 4
}
